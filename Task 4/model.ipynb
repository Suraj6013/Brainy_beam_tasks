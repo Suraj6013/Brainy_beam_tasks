{
 "cells": [
  {
   "cell_type": "markdown",
   "metadata": {},
   "source": [
    "# 📊 Task 4: Data Visualization with Interactive Widgets\n",
    "In this task, we will customize Matplotlib plots with interactive widgets (e.g., sliders, buttons) using libraries like `ipywidgets`."
   ]
  },
  {
   "cell_type": "markdown",
   "metadata": {},
   "source": [
    "## 📚 Import Necessary Libraries\n",
    "Let's start by importing the necessary libraries for data visualization and interactive widgets."
   ]
  },
  {
   "cell_type": "code",
   "execution_count": 4,
   "metadata": {},
   "outputs": [],
   "source": [
    "import matplotlib.pyplot as plt\n",
    "import numpy as np\n",
    "import ipywidgets as widgets\n",
    "from ipywidgets import interact, interactive, fixed, interact_manual"
   ]
  },
  {
   "cell_type": "markdown",
   "metadata": {},
   "source": [
    "## 📊 Create a Sample Plot\n",
    "We'll create a sample plot to demonstrate the use of interactive widgets."
   ]
  },
  {
   "cell_type": "code",
   "execution_count": 5,
   "metadata": {},
   "outputs": [],
   "source": [
    "# Create a sample plot function\n",
    "def plot_sine_wave(frequency=1.0, amplitude=1.0):\n",
    "    x = np.linspace(0, 2 * np.pi, 1000)\n",
    "    y = amplitude * np.sin(frequency * x)\n",
    "    \n",
    "    plt.figure(figsize=(10, 6))\n",
    "    plt.plot(x, y, label=f'Sine wave: {frequency} Hz, {amplitude} amplitude')\n",
    "    plt.xlabel('x')\n",
    "    plt.ylabel('y')\n",
    "    plt.title('Interactive Sine Wave Plot')\n",
    "    plt.legend()\n",
    "    plt.grid(True)\n",
    "    plt.show()"
   ]
  },
  {
   "cell_type": "markdown",
   "metadata": {},
   "source": [
    "# 📊 Interactive Sine Wave Plot with Widgets\n",
    "In this task, we will create an interactive sine wave plot using Matplotlib and ipywidgets."
   ]
  },
  {
   "cell_type": "code",
   "execution_count": 6,
   "metadata": {},
   "outputs": [],
   "source": [
    "\n",
    "# Define the plot function\n",
    "def plot_sine_wave(frequency=1.0, amplitude=1.0):\n",
    "    x = np.linspace(0, 2 * np.pi, 1000)\n",
    "    y = amplitude * np.sin(frequency * x)\n",
    "    \n",
    "    plt.figure(figsize=(10, 6))\n",
    "    plt.plot(x, y, label=f'Sine wave: {frequency} Hz, {amplitude} amplitude')\n",
    "    plt.xlabel('x')\n",
    "    plt.ylabel('y')\n",
    "    plt.title('Interactive Sine Wave Plot')\n",
    "    plt.legend()\n",
    "    plt.grid(True)\n",
    "    plt.show()"
   ]
  },
  {
   "cell_type": "markdown",
   "metadata": {},
   "source": [
    "## 🎛️ Add Interactive Widgets\n",
    "We'll add sliders to control the frequency and amplitude of the sine wave."
   ]
  },
  {
   "cell_type": "code",
   "execution_count": 7,
   "metadata": {},
   "outputs": [
    {
     "data": {
      "application/vnd.jupyter.widget-view+json": {
       "model_id": "c1a7d8611cf94075ac25dca7788a739b",
       "version_major": 2,
       "version_minor": 0
      },
      "text/plain": [
       "interactive(children=(FloatSlider(value=1.0, description='Frequency:', max=5.0, min=0.1), FloatSlider(value=1.…"
      ]
     },
     "execution_count": 7,
     "metadata": {},
     "output_type": "execute_result"
    }
   ],
   "source": [
    "# Create interactive widgets\n",
    "frequency_slider = widgets.FloatSlider(min=0.1, max=5.0, step=0.1, value=1.0, description='Frequency:')\n",
    "amplitude_slider = widgets.FloatSlider(min=0.1, max=2.0, step=0.1, value=1.0, description='Amplitude:')\n",
    "\n",
    "# Use interact to link the sliders to the plot function\n",
    "interactive_plot = interactive(plot_sine_wave, frequency=frequency_slider, amplitude=amplitude_slider)\n",
    "output = interactive_plot.children[-1]\n",
    "output.layout.height = '400px'\n",
    "interactive_plot"
   ]
  },
  {
   "cell_type": "markdown",
   "metadata": {},
   "source": [
    "## 🎉 Conclusion\n",
    "In this task, we successfully customized Matplotlib plots with interactive widgets using `ipywidgets`. This allows for dynamic and interactive data visualization, enhancing the user experience. 🚀"
   ]
  }
 ],
 "metadata": {
  "kernelspec": {
   "display_name": "Python 3",
   "language": "python",
   "name": "python3"
  },
  "language_info": {
   "codemirror_mode": {
    "name": "ipython",
    "version": 3
   },
   "file_extension": ".py",
   "mimetype": "text/x-python",
   "name": "python",
   "nbconvert_exporter": "python",
   "pygments_lexer": "ipython3",
   "version": "3.12.4"
  }
 },
 "nbformat": 4,
 "nbformat_minor": 2
}
