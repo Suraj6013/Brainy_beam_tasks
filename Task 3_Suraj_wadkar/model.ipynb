{
 "cells": [
  {
   "cell_type": "markdown",
   "metadata": {},
   "source": [
    "# 🛠️ Task 3: Creating a Custom Aggregation Function\n",
    "In this task, we will implement a custom aggregation function for use with `groupby` in pandas."
   ]
  },
  {
   "cell_type": "markdown",
   "metadata": {},
   "source": [
    "## 📚 Import Necessary Libraries\n",
    "Let's start by importing the necessary libraries for data manipulation."
   ]
  },
  {
   "cell_type": "code",
   "execution_count": 1,
   "metadata": {},
   "outputs": [],
   "source": [
    "import pandas as pd\n",
    "import numpy as np"
   ]
  },
  {
   "cell_type": "markdown",
   "metadata": {},
   "source": [
    "## 📊 Create a Sample DataFrame\n",
    "We'll create a sample DataFrame to demonstrate the custom aggregation function."
   ]
  },
  {
   "cell_type": "code",
   "execution_count": 2,
   "metadata": {},
   "outputs": [
    {
     "name": "stdout",
     "output_type": "stream",
     "text": [
      "Sample DataFrame:\n",
      "  Category  Values\n",
      "0        A      10\n",
      "1        A      15\n",
      "2        A      10\n",
      "3        B      20\n",
      "4        B      25\n",
      "5        B      20\n",
      "6        C      30\n",
      "7        C      35\n",
      "8        C      30\n"
     ]
    }
   ],
   "source": [
    "# Create a sample DataFrame\n",
    "data = {\n",
    "    'Category': ['A', 'A', 'A', 'B', 'B', 'B', 'C', 'C', 'C'],\n",
    "    'Values': [10, 15, 10, 20, 25, 20, 30, 35, 30]\n",
    "}\n",
    "df = pd.DataFrame(data)\n",
    "print(\"Sample DataFrame:\")\n",
    "print(df)"
   ]
  },
  {
   "cell_type": "markdown",
   "metadata": {},
   "source": [
    "## ✨ Define a Custom Aggregation Function\n",
    "We'll define a custom aggregation function that calculates the range (difference between the maximum and minimum values) of a group."
   ]
  },
  {
   "cell_type": "code",
   "execution_count": 3,
   "metadata": {},
   "outputs": [],
   "source": [
    "# Define a custom aggregation function\n",
    "def custom_range(series):\n",
    "    return series.max() - series.min()"
   ]
  },
  {
   "cell_type": "markdown",
   "metadata": {},
   "source": [
    "## 🔄 Use the Custom Aggregation Function with `groupby`\n",
    "We'll use the custom aggregation function with `groupby` to calculate the range for each category."
   ]
  },
  {
   "cell_type": "code",
   "execution_count": 4,
   "metadata": {},
   "outputs": [
    {
     "name": "stdout",
     "output_type": "stream",
     "text": [
      "\n",
      "Custom Aggregation (Range) by Category:\n",
      "          Values\n",
      "Category        \n",
      "A              5\n",
      "B              5\n",
      "C              5\n"
     ]
    }
   ],
   "source": [
    "# Use the custom aggregation function with groupby\n",
    "grouped = df.groupby('Category').agg(custom_range)\n",
    "print(\"\\nCustom Aggregation (Range) by Category:\")\n",
    "print(grouped)"
   ]
  },
  {
   "cell_type": "markdown",
   "metadata": {},
   "source": [
    "## 🎉 Conclusion\n",
    "In this task, we successfully implemented a custom aggregation function for use with `groupby` in pandas. This function calculated the range of values within each group, demonstrating the flexibility and power of custom aggregations in data analysis. 🚀"
   ]
  }
 ],
 "metadata": {
  "kernelspec": {
   "display_name": "Python 3",
   "language": "python",
   "name": "python3"
  },
  "language_info": {
   "codemirror_mode": {
    "name": "ipython",
    "version": 3
   },
   "file_extension": ".py",
   "mimetype": "text/x-python",
   "name": "python",
   "nbconvert_exporter": "python",
   "pygments_lexer": "ipython3",
   "version": "3.12.4"
  }
 },
 "nbformat": 4,
 "nbformat_minor": 2
}
