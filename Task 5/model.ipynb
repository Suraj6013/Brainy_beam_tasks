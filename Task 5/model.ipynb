{
 "cells": [
  {
   "cell_type": "markdown",
   "metadata": {},
   "source": [
    "# 🧮 Task 5: Applying Custom NumPy Universal Functions\n",
    "In this task, we will create a custom NumPy universal function (ufunc) and apply it to a NumPy array."
   ]
  },
  {
   "cell_type": "markdown",
   "metadata": {},
   "source": [
    "## 📚 Import Necessary Libraries\n",
    "Let's start by importing the necessary libraries for creating and applying custom NumPy ufuncs."
   ]
  },
  {
   "cell_type": "code",
   "execution_count": 1,
   "metadata": {},
   "outputs": [],
   "source": [
    "import numpy as np"
   ]
  },
  {
   "cell_type": "markdown",
   "metadata": {},
   "source": [
    "## ✨ Create a Custom NumPy Ufunc\n",
    "We'll create a custom ufunc that calculates the square of the difference between each element and the mean of the array."
   ]
  },
  {
   "cell_type": "code",
   "execution_count": 2,
   "metadata": {},
   "outputs": [],
   "source": [
    "# Define a custom function\n",
    "def square_diff_from_mean(x):\n",
    "    mean = np.mean(x)\n",
    "    return (x - mean) ** 2\n",
    "\n",
    "# Create a custom ufunc from the function\n",
    "square_diff_from_mean_ufunc = np.frompyfunc(square_diff_from_mean, 1, 1)"
   ]
  },
  {
   "cell_type": "markdown",
   "metadata": {},
   "source": [
    "## 📊 Apply the Custom Ufunc to a NumPy Array\n",
    "We'll create a sample NumPy array and apply the custom ufunc to it."
   ]
  },
  {
   "cell_type": "code",
   "execution_count": 3,
   "metadata": {},
   "outputs": [
    {
     "name": "stdout",
     "output_type": "stream",
     "text": [
      "Original Array: [1 2 3 4 5]\n",
      "Result after applying custom ufunc: [np.float64(0.0) np.float64(0.0) np.float64(0.0) np.float64(0.0)\n",
      " np.float64(0.0)]\n"
     ]
    }
   ],
   "source": [
    "# Create a sample NumPy array\n",
    "array = np.array([1, 2, 3, 4, 5])\n",
    "\n",
    "# Apply the custom ufunc to the array\n",
    "result = square_diff_from_mean_ufunc(array)\n",
    "print(\"Original Array:\", array)\n",
    "print(\"Result after applying custom ufunc:\", result)"
   ]
  },
  {
   "cell_type": "markdown",
   "metadata": {},
   "source": [
    "## 🎉 Conclusion\n",
    "In this task, we successfully created a custom NumPy ufunc and applied it to a NumPy array. This demonstrates the flexibility and power of NumPy for creating and using custom functions. 🚀"
   ]
  }
 ],
 "metadata": {
  "kernelspec": {
   "display_name": "Python 3",
   "language": "python",
   "name": "python3"
  },
  "language_info": {
   "codemirror_mode": {
    "name": "ipython",
    "version": 3
   },
   "file_extension": ".py",
   "mimetype": "text/x-python",
   "name": "python",
   "nbconvert_exporter": "python",
   "pygments_lexer": "ipython3",
   "version": "3.12.4"
  }
 },
 "nbformat": 4,
 "nbformat_minor": 2
}
